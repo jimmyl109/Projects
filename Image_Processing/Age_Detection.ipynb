{
 "cells": [
  {
   "cell_type": "code",
   "execution_count": 2,
   "id": "5508573e9154c0ea",
   "metadata": {
    "ExecuteTime": {
     "end_time": "2023-12-19T17:30:46.833512700Z",
     "start_time": "2023-12-19T17:30:45.314129100Z"
    },
    "collapsed": false
   },
   "outputs": [],
   "source": [
    "import pandas as pd \n",
    "import numpy as np \n",
    "import os \n",
    "import random\n",
    "import pickle "
   ]
  },
  {
   "cell_type": "code",
   "execution_count": 2,
   "id": "6e5eb6d881ab5ce2",
   "metadata": {
    "ExecuteTime": {
     "end_time": "2023-12-19T17:30:47.000666200Z",
     "start_time": "2023-12-19T17:30:46.818500600Z"
    },
    "collapsed": false
   },
   "outputs": [
    {
     "name": "stdout",
     "output_type": "stream",
     "text": [
      "We have a total of 19906 training images.\n"
     ]
    }
   ],
   "source": [
    "training_dataset = pd.read_csv('train.csv')\n",
    "training_images_path = '/Programs/Image_Processing/Train'\n",
    "training_list = [training_images_path + '/' + image for image in os.listdir(training_images_path)]\n",
    "num_training_img = len(os.listdir(training_images_path))\n",
    "print(f'We have a total of {num_training_img} training images.')"
   ]
  },
  {
   "cell_type": "code",
   "execution_count": 3,
   "id": "52da3a041d3fb64c",
   "metadata": {
    "ExecuteTime": {
     "end_time": "2023-12-19T17:30:47.000666200Z",
     "start_time": "2023-12-19T17:30:46.863541700Z"
    },
    "collapsed": false
   },
   "outputs": [
    {
     "data": {
      "text/plain": [
       "MIDDLE    10804\n",
       "YOUNG      6706\n",
       "OLD        2396\n",
       "Name: Class, dtype: int64"
      ]
     },
     "execution_count": 3,
     "metadata": {},
     "output_type": "execute_result"
    }
   ],
   "source": [
    "# unbalanced count\n",
    "training_dataset['Class'].value_counts()"
   ]
  },
  {
   "cell_type": "code",
   "execution_count": 4,
   "id": "4b364f665a4270ef",
   "metadata": {
    "ExecuteTime": {
     "end_time": "2023-12-19T17:30:47.168817500Z",
     "start_time": "2023-12-19T17:30:46.879556300Z"
    },
    "collapsed": false
   },
   "outputs": [],
   "source": [
    "# Split the ids into their respective classes\n",
    "middle_mask = training_dataset['Class'] == \"MIDDLE\"\n",
    "middle_mask_list = training_dataset[middle_mask]['ID']\n",
    "young_mask = training_dataset['Class'] == \"YOUNG\"\n",
    "young_mask_list = training_dataset[young_mask]['ID']\n",
    "old_mask = training_dataset['Class'] == \"OLD\"\n",
    "old_mask_list = training_dataset[old_mask]['ID']"
   ]
  },
  {
   "cell_type": "code",
   "execution_count": 5,
   "id": "a5152a985f71a6a2",
   "metadata": {
    "ExecuteTime": {
     "end_time": "2023-12-19T17:30:47.177825600Z",
     "start_time": "2023-12-19T17:30:46.898573100Z"
    },
    "collapsed": false
   },
   "outputs": [],
   "source": [
    "# Creating the paths to each of the classes\n",
    "middle_training_list = [training_images_path + '/' + image for image in middle_mask_list]\n",
    "young_training_list = [training_images_path + '/' + image for image in young_mask_list]\n",
    "old_training_list = [training_images_path + '/' + image for image in old_mask_list]"
   ]
  },
  {
   "cell_type": "code",
   "execution_count": 6,
   "id": "94ed0bc0aea647dd",
   "metadata": {
    "ExecuteTime": {
     "end_time": "2023-12-19T17:30:47.177825600Z",
     "start_time": "2023-12-19T17:30:46.911585300Z"
    },
    "collapsed": false
   },
   "outputs": [],
   "source": [
    "# Select 2396 random images from middle, young, old without replacement\n",
    "sample_size = 2396\n",
    "middle = random.sample(middle_training_list, sample_size)\n",
    "young = random.sample(young_training_list, sample_size)\n",
    "old = random.sample(old_training_list, sample_size)"
   ]
  },
  {
   "cell_type": "code",
   "execution_count": 7,
   "id": "4691a0f5bcaa8c84",
   "metadata": {
    "ExecuteTime": {
     "end_time": "2023-12-19T17:30:47.177825600Z",
     "start_time": "2023-12-19T17:30:46.927599400Z"
    },
    "collapsed": false
   },
   "outputs": [],
   "source": [
    "# recreating the data frame by assigning young 0 middle 1 old 2  \n",
    "data = []\n",
    "for image_url in young: \n",
    "    data.append((0, image_url))\n",
    "for image_url in middle: \n",
    "    data.append((1, image_url))\n",
    "for image_url in old: \n",
    "    data.append((2, image_url))\n",
    "    \n",
    "df = pd.DataFrame(data, columns=['Class', 'Image_path'])"
   ]
  },
  {
   "cell_type": "code",
   "execution_count": 1,
   "id": "fa4b586a948aac05",
   "metadata": {
    "ExecuteTime": {
     "end_time": "2023-12-19T17:31:24.349952200Z",
     "start_time": "2023-12-19T17:30:46.943614400Z"
    },
    "collapsed": false
   },
   "outputs": [
    {
     "ename": "ModuleNotFoundError",
     "evalue": "No module named 'skimage'",
     "output_type": "error",
     "traceback": [
      "\u001b[1;31m---------------------------------------------------------------------------\u001b[0m",
      "\u001b[1;31mModuleNotFoundError\u001b[0m                       Traceback (most recent call last)",
      "Cell \u001b[1;32mIn[1], line 1\u001b[0m\n\u001b[1;32m----> 1\u001b[0m \u001b[38;5;28;01mfrom\u001b[39;00m \u001b[38;5;21;01mskimage\u001b[39;00m\u001b[38;5;21;01m.\u001b[39;00m\u001b[38;5;21;01mio\u001b[39;00m \u001b[38;5;28;01mimport\u001b[39;00m imread\n\u001b[0;32m      2\u001b[0m \u001b[38;5;28;01mfrom\u001b[39;00m \u001b[38;5;21;01mskimage\u001b[39;00m\u001b[38;5;21;01m.\u001b[39;00m\u001b[38;5;21;01mtransform\u001b[39;00m \u001b[38;5;28;01mimport\u001b[39;00m resize\n\u001b[0;32m      3\u001b[0m \u001b[38;5;28;01mfrom\u001b[39;00m \u001b[38;5;21;01mskimage\u001b[39;00m\u001b[38;5;21;01m.\u001b[39;00m\u001b[38;5;21;01mfeature\u001b[39;00m \u001b[38;5;28;01mimport\u001b[39;00m local_binary_pattern\n",
      "\u001b[1;31mModuleNotFoundError\u001b[0m: No module named 'skimage'"
     ]
    }
   ],
   "source": [
    "from skimage.io import imread\n",
    "from skimage.transform import resize\n",
    "from skimage.feature import local_binary_pattern\n",
    "from skimage.filters import prewitt_h, prewitt_v\n",
    "\n",
    "METHOD = 'uniform'\n",
    "radius = 1\n",
    "n_points = 8 * radius\n",
    "\n",
    "all_features = []\n",
    "\n",
    "count = 0\n",
    "\n",
    "for image_url in df['Image_path'].to_list():\n",
    "    try: \n",
    "        count += 1\n",
    "        print(count, end = ' ')\n",
    "        # Read Images\n",
    "        image = imread(image_url)\n",
    "        print(image.shape)\n",
    "        \n",
    "        # Convert RGB images to grayscale (2D)\n",
    "        if len(image.shape) == 3: \n",
    "            image = np.mean(image, axis=2)\n",
    "        \n",
    "        #resize the image\n",
    "        image = resize(image, (100,100))\n",
    "        \n",
    "        # Find the sum of the grayscale values for each pixel \n",
    "        rgb_feature_matrix = image[:,:]\n",
    "        \n",
    "        # Flatten the features array into a single 1d vector \n",
    "        rgb_feature = rgb_feature_matrix.flatten()\n",
    "\n",
    "        #LBP feature extraction \n",
    "        gray_image = image\n",
    "        lbp_image = local_binary_pattern(gray_image, n_points, radius, METHOD)\n",
    "        lbp_features = np.reshape(lbp_image, (100*100))\n",
    "        \n",
    "        # horizontal edges\n",
    "        horizontal_edges = prewitt_h(gray_image)\n",
    "        horizontal_edges = np.reshape(horizontal_edges, (100*100))\n",
    "        \n",
    "        # vertical edges \n",
    "        vertical_edges = prewitt_v(gray_image)\n",
    "        vertical_edges = np.reshape(vertical_edges, (100*100))\n",
    "        \n",
    "        # combine all the features \n",
    "        all_features.append(np.concatenate((rgb_feature, lbp_features, horizontal_edges, vertical_edges)))\n",
    "        \n",
    "    except Exception as e:\n",
    "        print(f'Error processing image {image_url}: {str(e)}')"
   ]
  },
  {
   "cell_type": "code",
   "execution_count": 9,
   "id": "f2e6edd93fc5e38d",
   "metadata": {
    "ExecuteTime": {
     "end_time": "2023-12-19T17:31:24.913473700Z",
     "start_time": "2023-12-19T17:31:24.351954400Z"
    },
    "collapsed": false
   },
   "outputs": [],
   "source": [
    "X = np.array(all_features)\n",
    "Y = np.array(df['Class'].values)"
   ]
  },
  {
   "cell_type": "code",
   "execution_count": 10,
   "id": "2976efac6ee2b078",
   "metadata": {
    "ExecuteTime": {
     "end_time": "2023-12-19T17:31:28.444679800Z",
     "start_time": "2023-12-19T17:31:24.912472900Z"
    },
    "collapsed": false
   },
   "outputs": [],
   "source": [
    "from sklearn.model_selection import train_test_split\n",
    "from sklearn.preprocessing import StandardScaler\n",
    "\n",
    "# Splitting data\n",
    "X_train, X_test, Y_train, Y_test = train_test_split(X, Y, test_size=.25, random_state=32)\n",
    "\n",
    "# Standardize the data \n",
    "sc = StandardScaler()\n",
    "X_train = sc.fit_transform(X_train)\n",
    "X_test = sc.transform(X_test)\n"
   ]
  },
  {
   "cell_type": "code",
   "execution_count": 11,
   "id": "606f2521065628ad",
   "metadata": {
    "ExecuteTime": {
     "end_time": "2023-12-19T20:35:58.825910700Z",
     "start_time": "2023-12-19T17:31:28.446681800Z"
    },
    "collapsed": false
   },
   "outputs": [
    {
     "data": {
      "text/html": [
       "<style>#sk-container-id-1 {color: black;}#sk-container-id-1 pre{padding: 0;}#sk-container-id-1 div.sk-toggleable {background-color: white;}#sk-container-id-1 label.sk-toggleable__label {cursor: pointer;display: block;width: 100%;margin-bottom: 0;padding: 0.3em;box-sizing: border-box;text-align: center;}#sk-container-id-1 label.sk-toggleable__label-arrow:before {content: \"▸\";float: left;margin-right: 0.25em;color: #696969;}#sk-container-id-1 label.sk-toggleable__label-arrow:hover:before {color: black;}#sk-container-id-1 div.sk-estimator:hover label.sk-toggleable__label-arrow:before {color: black;}#sk-container-id-1 div.sk-toggleable__content {max-height: 0;max-width: 0;overflow: hidden;text-align: left;background-color: #f0f8ff;}#sk-container-id-1 div.sk-toggleable__content pre {margin: 0.2em;color: black;border-radius: 0.25em;background-color: #f0f8ff;}#sk-container-id-1 input.sk-toggleable__control:checked~div.sk-toggleable__content {max-height: 200px;max-width: 100%;overflow: auto;}#sk-container-id-1 input.sk-toggleable__control:checked~label.sk-toggleable__label-arrow:before {content: \"▾\";}#sk-container-id-1 div.sk-estimator input.sk-toggleable__control:checked~label.sk-toggleable__label {background-color: #d4ebff;}#sk-container-id-1 div.sk-label input.sk-toggleable__control:checked~label.sk-toggleable__label {background-color: #d4ebff;}#sk-container-id-1 input.sk-hidden--visually {border: 0;clip: rect(1px 1px 1px 1px);clip: rect(1px, 1px, 1px, 1px);height: 1px;margin: -1px;overflow: hidden;padding: 0;position: absolute;width: 1px;}#sk-container-id-1 div.sk-estimator {font-family: monospace;background-color: #f0f8ff;border: 1px dotted black;border-radius: 0.25em;box-sizing: border-box;margin-bottom: 0.5em;}#sk-container-id-1 div.sk-estimator:hover {background-color: #d4ebff;}#sk-container-id-1 div.sk-parallel-item::after {content: \"\";width: 100%;border-bottom: 1px solid gray;flex-grow: 1;}#sk-container-id-1 div.sk-label:hover label.sk-toggleable__label {background-color: #d4ebff;}#sk-container-id-1 div.sk-serial::before {content: \"\";position: absolute;border-left: 1px solid gray;box-sizing: border-box;top: 0;bottom: 0;left: 50%;z-index: 0;}#sk-container-id-1 div.sk-serial {display: flex;flex-direction: column;align-items: center;background-color: white;padding-right: 0.2em;padding-left: 0.2em;position: relative;}#sk-container-id-1 div.sk-item {position: relative;z-index: 1;}#sk-container-id-1 div.sk-parallel {display: flex;align-items: stretch;justify-content: center;background-color: white;position: relative;}#sk-container-id-1 div.sk-item::before, #sk-container-id-1 div.sk-parallel-item::before {content: \"\";position: absolute;border-left: 1px solid gray;box-sizing: border-box;top: 0;bottom: 0;left: 50%;z-index: -1;}#sk-container-id-1 div.sk-parallel-item {display: flex;flex-direction: column;z-index: 1;position: relative;background-color: white;}#sk-container-id-1 div.sk-parallel-item:first-child::after {align-self: flex-end;width: 50%;}#sk-container-id-1 div.sk-parallel-item:last-child::after {align-self: flex-start;width: 50%;}#sk-container-id-1 div.sk-parallel-item:only-child::after {width: 0;}#sk-container-id-1 div.sk-dashed-wrapped {border: 1px dashed gray;margin: 0 0.4em 0.5em 0.4em;box-sizing: border-box;padding-bottom: 0.4em;background-color: white;}#sk-container-id-1 div.sk-label label {font-family: monospace;font-weight: bold;display: inline-block;line-height: 1.2em;}#sk-container-id-1 div.sk-label-container {text-align: center;}#sk-container-id-1 div.sk-container {/* jupyter's `normalize.less` sets `[hidden] { display: none; }` but bootstrap.min.css set `[hidden] { display: none !important; }` so we also need the `!important` here to be able to override the default hidden behavior on the sphinx rendered scikit-learn.org. See: https://github.com/scikit-learn/scikit-learn/issues/21755 */display: inline-block !important;position: relative;}#sk-container-id-1 div.sk-text-repr-fallback {display: none;}</style><div id=\"sk-container-id-1\" class=\"sk-top-container\"><div class=\"sk-text-repr-fallback\"><pre>SVC(decision_function_shape=&#x27;ovo&#x27;, kernel=&#x27;sigmoid&#x27;, probability=True)</pre><b>In a Jupyter environment, please rerun this cell to show the HTML representation or trust the notebook. <br />On GitHub, the HTML representation is unable to render, please try loading this page with nbviewer.org.</b></div><div class=\"sk-container\" hidden><div class=\"sk-item\"><div class=\"sk-estimator sk-toggleable\"><input class=\"sk-toggleable__control sk-hidden--visually\" id=\"sk-estimator-id-1\" type=\"checkbox\" checked><label for=\"sk-estimator-id-1\" class=\"sk-toggleable__label sk-toggleable__label-arrow\">SVC</label><div class=\"sk-toggleable__content\"><pre>SVC(decision_function_shape=&#x27;ovo&#x27;, kernel=&#x27;sigmoid&#x27;, probability=True)</pre></div></div></div></div></div>"
      ],
      "text/plain": [
       "SVC(decision_function_shape='ovo', kernel='sigmoid', probability=True)"
      ]
     },
     "execution_count": 11,
     "metadata": {},
     "output_type": "execute_result"
    }
   ],
   "source": [
    "# Define Models\n",
    "from sklearn.tree import DecisionTreeClassifier\n",
    "from sklearn.neighbors import KNeighborsClassifier\n",
    "from sklearn.naive_bayes import GaussianNB\n",
    "from sklearn import svm \n",
    "from sklearn.ensemble import RandomForestClassifier\n",
    "from sklearn.model_selection import KFold\n",
    "from sklearn.model_selection import cross_val_score\n",
    "from sklearn.metrics import classification_report\n",
    "\n",
    "dt = DecisionTreeClassifier()\n",
    "dt.fit(X_train, Y_train)\n",
    "\n",
    "knn = KNeighborsClassifier(n_neighbors=10, n_jobs=-1)\n",
    "knn.fit(X_train, Y_train)\n",
    "\n",
    "gnb = GaussianNB()\n",
    "gnb.fit(X_train, Y_train)\n",
    "\n",
    "rfc = RandomForestClassifier(n_estimators=100, n_jobs=-1)\n",
    "rfc.fit(X_train, Y_train)\n",
    "\n",
    "linear_svm = svm.SVC(kernel='linear', decision_function_shape='ovo', probability=True)\n",
    "linear_svm.fit(X_train, Y_train)\n",
    "\n",
    "rbf_svm = svm.SVC(kernel='rbf', decision_function_shape='ovo', probability=True)\n",
    "rbf_svm.fit(X_train, Y_train)\n",
    "\n",
    "poly_svm = svm.SVC(kernel='poly', decision_function_shape='ovo', probability=True)\n",
    "poly_svm.fit(X_train, Y_train)\n",
    "\n",
    "sig_svm = svm.SVC(kernel='sigmoid', decision_function_shape='ovo', probability=True)\n",
    "sig_svm.fit(X_train, Y_train)"
   ]
  },
  {
   "cell_type": "code",
   "execution_count": 12,
   "id": "7126cfa3cbf30e3c",
   "metadata": {
    "ExecuteTime": {
     "end_time": "2023-12-20T03:33:23.698615200Z",
     "start_time": "2023-12-19T20:35:58.840924100Z"
    },
    "collapsed": false
   },
   "outputs": [
    {
     "name": "stdout",
     "output_type": "stream",
     "text": [
      "DT Average Accuracy: 0.45\n",
      "KNN Average Accuracy: 0.4\n",
      "GNB Average Accuracy: 0.48\n",
      "RFC Average Accuracy: 0.59\n",
      "Linear SVM Average Accuracy: 0.5\n",
      "RBF SVM Average Accuracy: 0.59\n",
      "Poly SVM Average Accuracy: 0.48\n",
      "Sigmoid SVM Average Accuracy: 0.54\n"
     ]
    }
   ],
   "source": [
    "# k-fold cross validation \n",
    "cv = KFold(n_splits=5, random_state=32, shuffle=True)\n",
    "\n",
    "dt_cv = cross_val_score(dt, X_train, Y_train, cv = cv, scoring='accuracy', n_jobs=-1)   \n",
    "knn_cv = cross_val_score(knn, X_train, Y_train, cv = cv, scoring='accuracy', n_jobs=-1)   \n",
    "gnb_cv = cross_val_score(gnb, X_train, Y_train, cv = cv, scoring='accuracy', n_jobs=-1)  \n",
    "rfc_cv = cross_val_score(rfc, X_train, Y_train, cv = cv, scoring='accuracy', n_jobs=-1)   \n",
    "linear_cv = cross_val_score(linear_svm, X_train, Y_train, cv = cv, scoring='accuracy', n_jobs=-1)   \n",
    "rbf_cv = cross_val_score(rbf_svm, X_train, Y_train, cv = cv, scoring='accuracy', n_jobs=-1)   \n",
    "poly_cv = cross_val_score(poly_svm, X_train, Y_train, cv = cv, scoring='accuracy', n_jobs=-1)   \n",
    "sig_cv = cross_val_score(sig_svm, X_train, Y_train, cv = cv, scoring='accuracy', n_jobs=-1)   \n",
    "\n",
    "print(f'DT Average Accuracy: {round(dt_cv.mean(),2)}')\n",
    "print(f'KNN Average Accuracy: {round(knn_cv.mean(),2)}')\n",
    "print(f'GNB Average Accuracy: {round(gnb_cv.mean(),2)}')\n",
    "print(f'RFC Average Accuracy: {round(rfc_cv.mean(),2)}')\n",
    "print(f'Linear SVM Average Accuracy: {round(linear_cv.mean(),2)}')\n",
    "print(f'RBF SVM Average Accuracy: {round(rbf_cv.mean(),2)}')\n",
    "print(f'Poly SVM Average Accuracy: {round(poly_cv.mean(),2)}')\n",
    "print(f'Sigmoid SVM Average Accuracy: {round(sig_cv.mean(),2)}')"
   ]
  },
  {
   "cell_type": "code",
   "execution_count": 13,
   "id": "d0c6d1e1f6bd401b",
   "metadata": {
    "ExecuteTime": {
     "end_time": "2023-12-20T03:48:49.395035300Z",
     "start_time": "2023-12-20T03:33:23.751664900Z"
    },
    "collapsed": false
   },
   "outputs": [],
   "source": [
    "# Predictions\n",
    "dt_pred = dt.predict(X_test)\n",
    "knn_pred = knn.predict(X_test)\n",
    "gnb_pred = gnb.predict(X_test)\n",
    "rfc_pred = rfc.predict(X_test)\n",
    "linear_pred = linear_svm.predict(X_test)\n",
    "rbf_pred = rbf_svm.predict(X_test)\n",
    "poly_pred = poly_svm.predict(X_test)\n",
    "sig_pred = sig_svm.predict(X_test)"
   ]
  },
  {
   "cell_type": "code",
   "execution_count": 14,
   "id": "ef94d3be797d7334",
   "metadata": {
    "ExecuteTime": {
     "end_time": "2023-12-20T03:48:49.505138400Z",
     "start_time": "2023-12-20T03:48:49.417056700Z"
    },
    "collapsed": false
   },
   "outputs": [
    {
     "name": "stdout",
     "output_type": "stream",
     "text": [
      "Dt\n",
      "              precision    recall  f1-score   support\n",
      "\n",
      "           0       0.47      0.50      0.49       599\n",
      "           1       0.42      0.41      0.41       600\n",
      "           2       0.51      0.50      0.51       598\n",
      "\n",
      "    accuracy                           0.47      1797\n",
      "   macro avg       0.47      0.47      0.47      1797\n",
      "weighted avg       0.47      0.47      0.47      1797\n",
      "\n",
      "\n",
      "\n",
      "Knn\n",
      "              precision    recall  f1-score   support\n",
      "\n",
      "           0       0.73      0.09      0.16       599\n",
      "           1       0.39      0.74      0.51       600\n",
      "           2       0.45      0.43      0.44       598\n",
      "\n",
      "    accuracy                           0.42      1797\n",
      "   macro avg       0.52      0.42      0.37      1797\n",
      "weighted avg       0.52      0.42      0.37      1797\n",
      "\n",
      "\n",
      "\n",
      "Gnb\n",
      "              precision    recall  f1-score   support\n",
      "\n",
      "           0       0.51      0.54      0.52       599\n",
      "           1       0.43      0.23      0.30       600\n",
      "           2       0.47      0.67      0.55       598\n",
      "\n",
      "    accuracy                           0.48      1797\n",
      "   macro avg       0.47      0.48      0.46      1797\n",
      "weighted avg       0.47      0.48      0.46      1797\n",
      "\n",
      "\n",
      "\n",
      "Rfc\n",
      "              precision    recall  f1-score   support\n",
      "\n",
      "           0       0.62      0.71      0.66       599\n",
      "           1       0.56      0.47      0.51       600\n",
      "           2       0.64      0.66      0.65       598\n",
      "\n",
      "    accuracy                           0.61      1797\n",
      "   macro avg       0.61      0.61      0.61      1797\n",
      "weighted avg       0.61      0.61      0.61      1797\n",
      "\n",
      "\n",
      "\n",
      "Linear\n",
      "              precision    recall  f1-score   support\n",
      "\n",
      "           0       0.51      0.54      0.52       599\n",
      "           1       0.42      0.45      0.43       600\n",
      "           2       0.54      0.48      0.51       598\n",
      "\n",
      "    accuracy                           0.49      1797\n",
      "   macro avg       0.49      0.49      0.49      1797\n",
      "weighted avg       0.49      0.49      0.49      1797\n",
      "\n",
      "\n",
      "\n",
      "Rbf\n",
      "              precision    recall  f1-score   support\n",
      "\n",
      "           0       0.60      0.72      0.65       599\n",
      "           1       0.59      0.44      0.50       600\n",
      "           2       0.62      0.66      0.64       598\n",
      "\n",
      "    accuracy                           0.60      1797\n",
      "   macro avg       0.60      0.60      0.60      1797\n",
      "weighted avg       0.60      0.60      0.60      1797\n",
      "\n",
      "\n",
      "\n",
      "Poly\n",
      "              precision    recall  f1-score   support\n",
      "\n",
      "           0       0.75      0.28      0.41       599\n",
      "           1       0.43      0.53      0.47       600\n",
      "           2       0.54      0.75      0.63       598\n",
      "\n",
      "    accuracy                           0.52      1797\n",
      "   macro avg       0.57      0.52      0.50      1797\n",
      "weighted avg       0.57      0.52      0.50      1797\n",
      "\n",
      "\n",
      "\n",
      "Sigmoid\n",
      "              precision    recall  f1-score   support\n",
      "\n",
      "           0       0.56      0.61      0.58       599\n",
      "           1       0.47      0.42      0.44       600\n",
      "           2       0.57      0.58      0.57       598\n",
      "\n",
      "    accuracy                           0.54      1797\n",
      "   macro avg       0.53      0.54      0.53      1797\n",
      "weighted avg       0.53      0.54      0.53      1797\n"
     ]
    }
   ],
   "source": [
    "# Classification Report\n",
    "def create_classification_report(model, y_test, y_pred): \n",
    "    print(model)\n",
    "    print(classification_report(y_test,y_pred))\n",
    "    print('\\n')\n",
    "\n",
    "create_classification_report('Dt', Y_test, dt_pred)\n",
    "create_classification_report('Knn', Y_test, knn_pred)\n",
    "create_classification_report('Gnb', Y_test, gnb_pred)\n",
    "create_classification_report('Rfc', Y_test, rfc_pred)\n",
    "create_classification_report('Linear', Y_test, linear_pred)\n",
    "create_classification_report('Rbf', Y_test, rbf_pred)\n",
    "create_classification_report('Poly', Y_test, poly_pred)\n",
    "create_classification_report('Sigmoid', Y_test, sig_pred)"
   ]
  },
  {
   "cell_type": "code",
   "execution_count": 16,
   "id": "66642029401e8b7",
   "metadata": {
    "ExecuteTime": {
     "end_time": "2023-12-20T05:24:34.362432200Z",
     "start_time": "2023-12-20T05:24:13.492845200Z"
    },
    "collapsed": false
   },
   "outputs": [],
   "source": [
    "# Save the trained model and the scaler\n",
    "with open('Image_Processing_Model.pkl', 'wb') as f:\n",
    "    pickle.dump(rbf_svm, f)\n",
    "    \n",
    "with open('image_scaler.pkl', 'wb') as f:\n",
    "    pickle.dump(sc, f)"
   ]
  },
  {
   "cell_type": "markdown",
   "id": "6adc14dcb7f1f12f",
   "metadata": {
    "collapsed": false
   },
   "source": []
  }
 ],
 "metadata": {
  "kernelspec": {
   "display_name": "Python 3",
   "language": "python",
   "name": "python3"
  },
  "language_info": {
   "codemirror_mode": {
    "name": "ipython",
    "version": 3
   },
   "file_extension": ".py",
   "mimetype": "text/x-python",
   "name": "python",
   "nbconvert_exporter": "python",
   "pygments_lexer": "ipython3",
   "version": "3.9.12"
  }
 },
 "nbformat": 4,
 "nbformat_minor": 5
}
